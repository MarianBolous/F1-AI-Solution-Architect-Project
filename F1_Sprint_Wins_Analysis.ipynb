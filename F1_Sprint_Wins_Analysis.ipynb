{
  "cells": [
    {
      "cell_type": "markdown",
      "id": "f70a92b5",
      "metadata": {
        "id": "f70a92b5"
      },
      "source": [
        "# 🏎️ F1 Sprint Race Wins Analysis\n",
        "**Author:** Faisal Nazir  \n",
        "**Objective:** Download Kaggle F1 dataset and compute sprint race wins per driver.\n",
        "\n",
        "> This notebook uses the `kagglehub` library to fetch the dataset and Pandas to clean and analyse the data."
      ]
    },
    {
      "cell_type": "code",
      "execution_count": 3,
      "id": "ae1381b2",
      "metadata": {
        "id": "ae1381b2"
      },
      "outputs": [
        {
          "name": "stdout",
          "output_type": "stream",
          "text": [
            "Collecting kagglehub\n",
            "  Downloading kagglehub-0.3.12-py3-none-any.whl.metadata (38 kB)\n",
            "Requirement already satisfied: packaging in /Users/marianbolous/anaconda3/lib/python3.12/site-packages (from kagglehub) (24.1)\n",
            "Requirement already satisfied: pyyaml in /Users/marianbolous/anaconda3/lib/python3.12/site-packages (from kagglehub) (6.0.1)\n",
            "Requirement already satisfied: requests in /Users/marianbolous/anaconda3/lib/python3.12/site-packages (from kagglehub) (2.32.3)\n",
            "Requirement already satisfied: tqdm in /Users/marianbolous/anaconda3/lib/python3.12/site-packages (from kagglehub) (4.66.5)\n",
            "Requirement already satisfied: charset-normalizer<4,>=2 in /Users/marianbolous/anaconda3/lib/python3.12/site-packages (from requests->kagglehub) (3.3.2)\n",
            "Requirement already satisfied: idna<4,>=2.5 in /Users/marianbolous/anaconda3/lib/python3.12/site-packages (from requests->kagglehub) (3.7)\n",
            "Requirement already satisfied: urllib3<3,>=1.21.1 in /Users/marianbolous/anaconda3/lib/python3.12/site-packages (from requests->kagglehub) (2.2.3)\n",
            "Requirement already satisfied: certifi>=2017.4.17 in /Users/marianbolous/anaconda3/lib/python3.12/site-packages (from requests->kagglehub) (2024.12.14)\n",
            "Downloading kagglehub-0.3.12-py3-none-any.whl (67 kB)\n",
            "Installing collected packages: kagglehub\n",
            "Successfully installed kagglehub-0.3.12\n"
          ]
        }
      ],
      "source": [
        "!pip install kagglehub \n",
        "\n",
        "import kagglehub\n",
        "import pandas as pd\n",
        "import os"
      ]
    },
    {
      "cell_type": "code",
      "execution_count": 4,
      "id": "fb8badc4",
      "metadata": {
        "colab": {
          "base_uri": "https://localhost:8080/"
        },
        "id": "fb8badc4",
        "outputId": "b51d4822-086a-449a-aac7-0b190ea4bdf3"
      },
      "outputs": [
        {
          "name": "stdout",
          "output_type": "stream",
          "text": [
            "Downloading from https://www.kaggle.com/api/v1/datasets/download/rohanrao/formula-1-world-championship-1950-2020?dataset_version_number=24...\n"
          ]
        },
        {
          "name": "stderr",
          "output_type": "stream",
          "text": [
            "100%|██████████| 6.28M/6.28M [00:00<00:00, 10.6MB/s]"
          ]
        },
        {
          "name": "stdout",
          "output_type": "stream",
          "text": [
            "Extracting files...\n"
          ]
        },
        {
          "name": "stderr",
          "output_type": "stream",
          "text": [
            "\n"
          ]
        },
        {
          "name": "stdout",
          "output_type": "stream",
          "text": [
            "Path to dataset files: /Users/marianbolous/.cache/kagglehub/datasets/rohanrao/formula-1-world-championship-1950-2020/versions/24\n"
          ]
        }
      ],
      "source": [
        "# Download the dataset\n",
        "path = kagglehub.dataset_download(\"rohanrao/formula-1-world-championship-1950-2020\")\n",
        "print(\"Path to dataset files:\", path)"
      ]
    },
    {
      "cell_type": "code",
      "execution_count": 5,
      "id": "6cd09a65",
      "metadata": {
        "id": "6cd09a65"
      },
      "outputs": [],
      "source": [
        "# Load the necessary dataframes\n",
        "circuits_df = pd.read_csv(os.path.join(path, 'circuits.csv'))\n",
        "races_df = pd.read_csv(os.path.join(path, 'races.csv'))\n",
        "results_df = pd.read_csv(os.path.join(path, 'results.csv'))\n",
        "drivers_df = pd.read_csv(os.path.join(path, 'drivers.csv'))\n",
        "sprint_results_df = pd.read_csv(os.path.join(path, 'sprint_results.csv'))"
      ]
    },
    {
      "cell_type": "code",
      "execution_count": 6,
      "id": "8506eb60",
      "metadata": {
        "id": "8506eb60"
      },
      "outputs": [],
      "source": [
        "# Merge sprint results with races to get race information\n",
        "sprint_races_df = pd.merge(sprint_results_df, races_df[['raceId', 'year', 'name']], on='raceId')\n",
        "\n",
        "# Merge with drivers to get driver names\n",
        "sprint_race_winners = pd.merge(sprint_races_df[sprint_races_df['positionOrder'] == 1], drivers_df[['driverId', 'forename', 'surname']], on='driverId')\n",
        "\n",
        "# Combine forename and surname for full driver name\n",
        "sprint_race_winners['driverName'] = sprint_race_winners['forename'] + ' ' + sprint_race_winners['surname']"
      ]
    },
    {
      "cell_type": "code",
      "execution_count": 7,
      "id": "8361f4aa",
      "metadata": {
        "id": "8361f4aa"
      },
      "outputs": [],
      "source": [
        "# Count the number of sprint wins for each driver\n",
        "sprint_wins_count = sprint_race_winners['driverName'].value_counts().reset_index()\n",
        "sprint_wins_count.columns = ['driverName', 'sprintWins']"
      ]
    },
    {
      "cell_type": "code",
      "execution_count": 8,
      "id": "9c56fc78",
      "metadata": {
        "colab": {
          "base_uri": "https://localhost:8080/"
        },
        "id": "9c56fc78",
        "outputId": "070bfbd6-8257-42ff-b496-87076b7e2a8b"
      },
      "outputs": [
        {
          "name": "stdout",
          "output_type": "stream",
          "text": [
            "Number of F1 Sprint race wins per driver:\n",
            "        driverName  sprintWins\n",
            "0   Max Verstappen          11\n",
            "1  Valtteri Bottas           2\n",
            "2    Oscar Piastri           2\n",
            "3   George Russell           1\n",
            "4     Sergio Pérez           1\n",
            "5     Lando Norris           1\n"
          ]
        }
      ],
      "source": [
        "# Display the results\n",
        "print(\"Number of F1 Sprint race wins per driver:\")\n",
        "print(sprint_wins_count)"
      ]
    }
  ],
  "metadata": {
    "colab": {
      "provenance": []
    },
    "kernelspec": {
      "display_name": "Python 3",
      "language": "python",
      "name": "python3"
    },
    "language_info": {
      "codemirror_mode": {
        "name": "ipython",
        "version": 3
      },
      "file_extension": ".py",
      "mimetype": "text/x-python",
      "name": "python",
      "nbconvert_exporter": "python",
      "pygments_lexer": "ipython3",
      "version": "3.12.2"
    }
  },
  "nbformat": 4,
  "nbformat_minor": 5
}
