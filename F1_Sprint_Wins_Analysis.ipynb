{
  "cells": [
    {
      "cell_type": "markdown",
      "id": "f70a92b5",
      "metadata": {
        "id": "f70a92b5"
      },
      "source": [
        "# 🏎️ F1 Sprint Race Wins Analysis\n",
        "**Author:** Faisal Nazir  \n",
        "**Objective:** Download Kaggle F1 dataset and compute sprint race wins per driver.\n",
        "\n",
        "> This notebook uses the `kagglehub` library to fetch the dataset and Pandas to clean and analyse the data."
      ]
    },
    {
      "cell_type": "code",
      "execution_count": 3,
      "id": "ae1381b2",
      "metadata": {
        "id": "ae1381b2"
      },
      "outputs": [],
      "source": [
        "import kagglehub\n",
        "import pandas as pd\n",
        "import os"
      ]
    },
    {
      "cell_type": "code",
      "execution_count": 4,
      "id": "fb8badc4",
      "metadata": {
        "colab": {
          "base_uri": "https://localhost:8080/"
        },
        "id": "fb8badc4",
        "outputId": "b51d4822-086a-449a-aac7-0b190ea4bdf3"
      },
      "outputs": [
        {
          "name": "stdout",
          "output_type": "stream",
          "text": [
            "Path to dataset files: /Users/marianbolous/.cache/kagglehub/datasets/rohanrao/formula-1-world-championship-1950-2020/versions/24\n"
          ]
        }
      ],
      "source": [
        "# Download the dataset\n",
        "path = kagglehub.dataset_download(\"rohanrao/formula-1-world-championship-1950-2020\")\n",
        "print(\"Path to dataset files:\", path)"
      ]
    },
    {
      "cell_type": "code",
      "execution_count": 6,
      "id": "6cd09a65",
      "metadata": {
        "id": "6cd09a65"
      },
      "outputs": [],
      "source": [
        "# Load the necessary dataframes\n",
        "circuits_df = pd.read_csv(os.path.join(path, 'circuits.csv'))\n",
        "races_df = pd.read_csv(os.path.join(path, 'races.csv'))\n",
        "results_df = pd.read_csv(os.path.join(path, 'results.csv'))\n",
        "drivers_df = pd.read_csv(os.path.join(path, 'drivers.csv'))\n",
        "sprint_results_df = pd.read_csv(os.path.join(path, 'sprint_results.csv'))"
      ]
    },
    {
      "cell_type": "code",
      "execution_count": 7,
      "id": "8506eb60",
      "metadata": {
        "id": "8506eb60"
      },
      "outputs": [],
      "source": [
        "# Merge sprint results with races to get race information\n",
        "sprint_races_df = pd.merge(sprint_results_df, races_df[['raceId', 'year', 'name']], on='raceId')\n",
        "\n",
        "# Merge with drivers to get driver names\n",
        "sprint_race_winners = pd.merge(sprint_races_df[sprint_races_df['positionOrder'] == 1], drivers_df[['driverId', 'forename', 'surname']], on='driverId')\n",
        "\n",
        "# Combine forename and surname for full driver name\n",
        "sprint_race_winners['driverName'] = sprint_race_winners['forename'] + ' ' + sprint_race_winners['surname']"
      ]
    },
    {
      "cell_type": "code",
      "execution_count": 8,
      "id": "8361f4aa",
      "metadata": {
        "id": "8361f4aa"
      },
      "outputs": [],
      "source": [
        "# Count the number of sprint wins for each driver\n",
        "sprint_wins_count = sprint_race_winners['driverName'].value_counts().reset_index()\n",
        "sprint_wins_count.columns = ['driverName', 'sprintWins']"
      ]
    },
    {
      "cell_type": "code",
      "execution_count": 9,
      "id": "9c56fc78",
      "metadata": {
        "colab": {
          "base_uri": "https://localhost:8080/"
        },
        "id": "9c56fc78",
        "outputId": "070bfbd6-8257-42ff-b496-87076b7e2a8b"
      },
      "outputs": [
        {
          "name": "stdout",
          "output_type": "stream",
          "text": [
            "Number of F1 Sprint race wins per driver:\n",
            "        driverName  sprintWins\n",
            "0   Max Verstappen          11\n",
            "1  Valtteri Bottas           2\n",
            "2    Oscar Piastri           2\n",
            "3   George Russell           1\n",
            "4     Sergio Pérez           1\n",
            "5     Lando Norris           1\n"
          ]
        }
      ],
      "source": [
        "# Display the results\n",
        "print(\"Number of F1 Sprint race wins per driver:\")\n",
        "print(sprint_wins_count)"
      ]
    },
    {
      "cell_type": "code",
      "execution_count": 10,
      "id": "f5d7fc73",
      "metadata": {},
      "outputs": [
        {
          "data": {
            "text/html": [
              "<div>\n",
              "<style scoped>\n",
              "    .dataframe tbody tr th:only-of-type {\n",
              "        vertical-align: middle;\n",
              "    }\n",
              "\n",
              "    .dataframe tbody tr th {\n",
              "        vertical-align: top;\n",
              "    }\n",
              "\n",
              "    .dataframe thead th {\n",
              "        text-align: right;\n",
              "    }\n",
              "</style>\n",
              "<table border=\"1\" class=\"dataframe\">\n",
              "  <thead>\n",
              "    <tr style=\"text-align: right;\">\n",
              "      <th></th>\n",
              "      <th>driverName</th>\n",
              "      <th>grandprixWins</th>\n",
              "    </tr>\n",
              "  </thead>\n",
              "  <tbody>\n",
              "    <tr>\n",
              "      <th>0</th>\n",
              "      <td>Lewis Hamilton</td>\n",
              "      <td>105</td>\n",
              "    </tr>\n",
              "    <tr>\n",
              "      <th>1</th>\n",
              "      <td>Michael Schumacher</td>\n",
              "      <td>91</td>\n",
              "    </tr>\n",
              "    <tr>\n",
              "      <th>2</th>\n",
              "      <td>Max Verstappen</td>\n",
              "      <td>63</td>\n",
              "    </tr>\n",
              "    <tr>\n",
              "      <th>3</th>\n",
              "      <td>Sebastian Vettel</td>\n",
              "      <td>53</td>\n",
              "    </tr>\n",
              "    <tr>\n",
              "      <th>4</th>\n",
              "      <td>Alain Prost</td>\n",
              "      <td>51</td>\n",
              "    </tr>\n",
              "    <tr>\n",
              "      <th>...</th>\n",
              "      <td>...</td>\n",
              "      <td>...</td>\n",
              "    </tr>\n",
              "    <tr>\n",
              "      <th>110</th>\n",
              "      <td>Jean-Pierre Beltoise</td>\n",
              "      <td>1</td>\n",
              "    </tr>\n",
              "    <tr>\n",
              "      <th>111</th>\n",
              "      <td>Peter Gethin</td>\n",
              "      <td>1</td>\n",
              "    </tr>\n",
              "    <tr>\n",
              "      <th>112</th>\n",
              "      <td>Jean Alesi</td>\n",
              "      <td>1</td>\n",
              "    </tr>\n",
              "    <tr>\n",
              "      <th>113</th>\n",
              "      <td>Jarno Trulli</td>\n",
              "      <td>1</td>\n",
              "    </tr>\n",
              "    <tr>\n",
              "      <th>114</th>\n",
              "      <td>Johnnie Parsons</td>\n",
              "      <td>1</td>\n",
              "    </tr>\n",
              "  </tbody>\n",
              "</table>\n",
              "<p>115 rows × 2 columns</p>\n",
              "</div>"
            ],
            "text/plain": [
              "               driverName  grandprixWins\n",
              "0          Lewis Hamilton            105\n",
              "1      Michael Schumacher             91\n",
              "2          Max Verstappen             63\n",
              "3        Sebastian Vettel             53\n",
              "4             Alain Prost             51\n",
              "..                    ...            ...\n",
              "110  Jean-Pierre Beltoise              1\n",
              "111          Peter Gethin              1\n",
              "112            Jean Alesi              1\n",
              "113          Jarno Trulli              1\n",
              "114       Johnnie Parsons              1\n",
              "\n",
              "[115 rows x 2 columns]"
            ]
          },
          "execution_count": 10,
          "metadata": {},
          "output_type": "execute_result"
        }
      ],
      "source": [
        "\n",
        "# Grand Prix (full race) wins = results where the finishing order is 1\n",
        "winners = results_df[results_df[\"positionOrder\"] == 1]\n",
        "\n",
        "# Join to get driver names\n",
        "winners = winners.merge(\n",
        "    drivers_df[[\"driverId\", \"forename\", \"surname\"]],\n",
        "    on=\"driverId\",\n",
        "    how=\"left\"\n",
        ")\n",
        "winners[\"driverName\"] = winners[\"forename\"] + \" \" + winners[\"surname\"]\n",
        "\n",
        "# Count and sort\n",
        "grand_prix_wins = (\n",
        "    winners.groupby(\"driverName\")\n",
        "           .size()\n",
        "           .reset_index(name=\"grandprixWins\")\n",
        "           .sort_values(\"grandprixWins\", ascending=False)\n",
        "           .reset_index(drop=True)\n",
        ")\n",
        "\n",
        "grand_prix_wins\n",
        "\n"
      ]
    }
  ],
  "metadata": {
    "colab": {
      "provenance": []
    },
    "kernelspec": {
      "display_name": "Python 3",
      "language": "python",
      "name": "python3"
    },
    "language_info": {
      "codemirror_mode": {
        "name": "ipython",
        "version": 3
      },
      "file_extension": ".py",
      "mimetype": "text/x-python",
      "name": "python",
      "nbconvert_exporter": "python",
      "pygments_lexer": "ipython3",
      "version": "3.12.2"
    }
  },
  "nbformat": 4,
  "nbformat_minor": 5
}
